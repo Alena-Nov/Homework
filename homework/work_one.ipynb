{
 "cells": [
  {
   "cell_type": "markdown",
   "metadata": {},
   "source": [
    "## Задание 1 Программа по подсчету длинны строк"
   ]
  },
  {
   "cell_type": "markdown",
   "metadata": {},
   "source": [
    "Задание 1.1 "
   ]
  },
  {
   "cell_type": "code",
   "execution_count": null,
   "metadata": {},
   "outputs": [],
   "source": [
    "phrase_1='Насколько проще было бы писать программы, если бы не заказчики'\n",
    "phrase_2='640Кб должно хватить для любых задач. Билл Гейтс (по легенде)'\n",
    "if len('Насколько проще было бы писать программы, если бы не заказчики') > len('640Кб должно хватить для любых задач. Билл Гейтс (по легенде)'):\n",
    "      print('Фраза 1 длиннее фразы 2')\n",
    "elif len('Насколько проще было бы писать программы, если бы не заказчики') < len('640Кб должно хватить для любых задач. Билл Гейтс (по легенде)'):\n",
    "        print(\"Фраза 2 длиннее фразы 1\")\n",
    "else:\n",
    "    print(\"Фразы равной длины\")"
   ]
  },
  {
   "cell_type": "markdown",
   "metadata": {},
   "source": [
    "Задание 1.2"
   ]
  },
  {
   "cell_type": "code",
   "execution_count": null,
   "metadata": {},
   "outputs": [],
   "source": [
    "phrase_1='640Кб должно хватить для любых задач. Билл Гейтс (по легенде)'\n",
    "phrase_2='Насколько проще было бы писать программы, если бы не заказчики'\n",
    "if len('640Кб должно хватить для любых задач. Билл Гейтс (по легенде)') > len('Насколько проще было бы писать программы, если бы не заказчики'):\n",
    "    print('Фраза 1 длиннее фразы 2')\n",
    "elif len('640Кб должно хватить для любых задач. Билл Гейтс (по легенде)') < len('Насколько проще было бы писать программы, если бы не заказчики'):\n",
    "        print(\"Фраза 2 длиннее фразы 1\")\n",
    "else:\n",
    "    print(\"Фразы равной длины\")"
   ]
  },
  {
   "cell_type": "markdown",
   "metadata": {},
   "source": [
    "Задание 1.3"
   ]
  },
  {
   "cell_type": "code",
   "execution_count": 7,
   "metadata": {},
   "outputs": [
    {
     "name": "stdout",
     "output_type": "stream",
     "text": [
      "Фразы равной длины\n"
     ]
    }
   ],
   "source": [
    "phrase_1='Насколько проще было бы писать программы, если бы не заказчики'\n",
    "phrase_2='Насколько проще было бы писать программы, если бы не заказчики'\n",
    "if len('Насколько проще было бы писать программы, если бы не заказчики') > len('Насколько проще было бы писать программы, если бы не заказчики'):\n",
    "      print('Фраза 1 длиннее фразы 2')\n",
    "elif len('Насколько проще было бы писать программы, если бы не заказчики') < len('Насколько проще было бы писать программы, если бы не заказчики'):\n",
    "        print(\"Фраза 2 длиннее фразы 1\")\n",
    "else:\n",
    "    print(\"Фразы равной длины\")"
   ]
  },
  {
   "cell_type": "markdown",
   "metadata": {},
   "source": [
    "## Задание 2 Программа для определения високосного года"
   ]
  },
  {
   "cell_type": "code",
   "execution_count": 35,
   "metadata": {},
   "outputs": [
    {
     "name": "stdout",
     "output_type": "stream",
     "text": [
      "введите год 2020\n",
      "2020 високосный год \n"
     ]
    }
   ],
   "source": [
    "#год будет проверен методом остатка от деления \n",
    "year=int(input(\"введите год \"))\n",
    "if year % 400==0:\n",
    "    print(year, 'високосный год ')\n",
    "elif year % 100==0:\n",
    "    print(year, 'обычный год ')\n",
    "elif year % 4==0:\n",
    "    print(year, 'високосный год ') \n",
    "else:\n",
    "    print(year, 'обычный год ')"
   ]
  },
  {
   "cell_type": "markdown",
   "metadata": {},
   "source": [
    "## Задание 3 Программа для определения знакак зодиака "
   ]
  },
  {
   "cell_type": "code",
   "execution_count": 39,
   "metadata": {},
   "outputs": [
    {
     "name": "stdout",
     "output_type": "stream",
     "text": [
      "введите число Вашего рождения 6\n",
      "введите месяц Вашего рождения март\n",
      "рыбы\n"
     ]
    }
   ],
   "source": [
    "user_date=int(input(\"введите число Вашего рождения \"))\n",
    "user_mount=input(\"введите месяц Вашего рождения \")\n",
    "if (user_mount==\"февраль\" or user_mount==\"atdhfkm\" and 29>=user_date>20) or (user_mount==\"март\" or user_mount==\"vfhn\" and 21>=user_date>0): \n",
    "    print(\"рыбы\")\n",
    "elif (user_mount==\"март\" or user_mount==\"vfhn\" and 31>=user_date>21) or (user_mount==\"апрель\" or user_mount==\"fghtkm\" and 20>=user_date>0):\n",
    "    print(\"овен\")\n",
    "elif (user_mount==\"апрель\" or user_mount==\"fghtkm\" and 30>=user_date>20) or (user_mount==\"май\" or user_mount==\"vfq\" and 20>=user_date>0):\n",
    "    print(\"телец\")\n",
    "elif (user_mount==\"май\" or user_mount==\"vfq\" and 31>=user_date>20) or (user_mount==\"июнь\" or user_mount==\"b.ym\" and 21>=user_date>0):\n",
    "    print(\"близнецы\")\n",
    "elif (user_mount==\"июнь\" or user_mount==\"b.ym\" and 30>=user_date>21) or (user_mount==\"июль\" or user_mount==\"b.km\" and 22>=user_date>0):\n",
    "    print(\"рак\")\n",
    "elif (user_mount==\"июль\" or user_mount==\"b.km\" and 31>=user_date>22) or (user_mount==\"август\" or user_mount==\"fduecn\" and 23>=user_date>0):\n",
    "    print(\"лев\")  \n",
    "elif (user_mount==\"август\" or user_mount==\"fduecn\" and 31>=user_date>23) or (user_mount==\"сентябрь\" or user_mount==\"ctynz,hm\" and 23>=user_date>0):\n",
    "    print(\"дева\")\n",
    "elif (user_mount==\"сентябрь\" or user_mount==\"ctynz,hm\" and 30>=user_date>23) or (user_mount==\"октябрь\" or user_mount==\"jrnz,hm\" and 23>=user_date>0):\n",
    "    print(\"весы\")\n",
    "elif (user_mount==\"октябрь\" or user_mount==\"jrnz,hm\" and 31>=user_date>23) or (user_mount==\"ноябрь\" or user_mount==\"yjz,hm\" and 22>=user_date>0):\n",
    "    print(\"скорпион\")\n",
    "elif (user_mount==\"ноябрь\" or user_mount==\"yjz,hm\" and 30>=user_date>22) or (user_mount==\"декабрь\" or user_mount==\"ltrf,hm\" and 21>=user_date>0):\n",
    "    print(\"стрелец\")\n",
    "elif (user_mount==\"декабрь\" or user_mount==\"ltrf,hm\" and 31>=user_date>21) or (user_mount==\"январь\" or user_mount==\"zydfhm\" and 20>=user_date>0):\n",
    "    print(\"козерог\")\n",
    "elif (user_mount==\"январь\" or user_mount==\"zydfhm\" and 31>=user_date>20) or (user_mount==\"февраль\" or user_mount==\"atdhfkm\" and 20>=user_date>0):\n",
    "    print(\"водолей\")"
   ]
  },
  {
   "cell_type": "markdown",
   "metadata": {},
   "source": [
    "## Задание 4 Программа для определения вида коробки"
   ]
  },
  {
   "cell_type": "code",
   "execution_count": 37,
   "metadata": {},
   "outputs": [
    {
     "name": "stdout",
     "output_type": "stream",
     "text": [
      "Упаковка для лыж\n"
     ]
    }
   ],
   "source": [
    "width=10\n",
    "length=205\n",
    "height=5\n",
    "if width<15 and length<15 and height<15:\n",
    "    print(\"Коробка №1\")\n",
    "elif 50>width>15 or 50>length>15 or 50>height>15:\n",
    "    print(\"Коробка №2\")\n",
    "elif length>200:\n",
    "    print(\"Упаковка для лыж\")\n",
    "else:\n",
    "    print(\"Стандартная коробка\")"
   ]
  },
  {
   "cell_type": "markdown",
   "metadata": {},
   "source": [
    "## Задание 5 Программа для определения счастливого билета"
   ]
  },
  {
   "cell_type": "code",
   "execution_count": 9,
   "metadata": {},
   "outputs": [
    {
     "name": "stdout",
     "output_type": "stream",
     "text": [
      "Введите номер билета(6-значное число)123321\n",
      "счастливый билет\n"
     ]
    }
   ],
   "source": [
    "# решение частично подглядыно в интеренете\n",
    "ticket_number = [int(i) for i in input(\"Введите номер билета(6-значное число)\")]\n",
    "if sum(ticket_number [:3]) == sum(ticket_number [3:]):\n",
    "    print(\"счастливый билет\")\n",
    "else:\n",
    "    print(\"обычный билет\")\n",
    "# в первой строке мы используем \"for\", как цикл, который перебирает все элементы некоторой последовательности. int(i)-преобразует эллементы в целочисленные эллементы, где i-каждый эллемент сроки.\n",
    "# во второй строке мы используем [:]-диапазон эллементов, которые неообходимо суммировать\n",
    "# работа выполненна методом работы со строками"
   ]
  },
  {
   "cell_type": "markdown",
   "metadata": {},
   "source": [
    "## Задание 6 Программа для вычесления площади фигур"
   ]
  },
  {
   "cell_type": "code",
   "execution_count": 6,
   "metadata": {},
   "outputs": [
    {
     "name": "stdout",
     "output_type": "stream",
     "text": [
      "Введите название фигуры - nhteujkmybr\n",
      "Введите сторону a = 2\n",
      "Введите сторону b = 2\n",
      "Введите сторону c = 3\n",
      "1.984313483298443\n"
     ]
    }
   ],
   "source": [
    "import math  \n",
    "tip=input(\"Введите название фигуры - \")\n",
    "if tip==\"круг\" or tip==\"rheu\":\n",
    "    r=float(input(\"Введите радиус r = \"))\n",
    "    s=math.pi*(r**2)\n",
    "    print(s)\n",
    "elif tip==\"треугольник\" or tip==\"nhteujkmybr\":\n",
    "    a=float(input(\"Введите сторону a = \"))\n",
    "    b=float(input(\"Введите сторону b = \"))\n",
    "    c=float(input(\"Введите сторону c = \"))\n",
    "    p=(a+b+c)/2\n",
    "    s=math.sqrt((p*(p-a)*(p-b)*(p-c)))\n",
    "    print(s)\n",
    "elif tip==\"прямоугольник\" or tip==\"ghzvjeujkmybr\":\n",
    "    a=float(input(\"Введите сторону a = \"))\n",
    "    b=float(input(\"Введите сторону b = \"))\n",
    "    s=a*b\n",
    "    print(s)\n",
    "# import math  - используется для вызва математического модуля"
   ]
  },
  {
   "cell_type": "code",
   "execution_count": null,
   "metadata": {},
   "outputs": [],
   "source": []
  }
 ],
 "metadata": {
  "kernelspec": {
   "display_name": "Python 3",
   "language": "python",
   "name": "python3"
  },
  "language_info": {
   "codemirror_mode": {
    "name": "ipython",
    "version": 3
   },
   "file_extension": ".py",
   "mimetype": "text/x-python",
   "name": "python",
   "nbconvert_exporter": "python",
   "pygments_lexer": "ipython3",
   "version": "3.8.5"
  }
 },
 "nbformat": 4,
 "nbformat_minor": 4
}
