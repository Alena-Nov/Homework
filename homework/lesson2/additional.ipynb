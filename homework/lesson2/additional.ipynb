{
 "cells": [
  {
   "cell_type": "code",
   "execution_count": null,
   "metadata": {},
   "outputs": [],
   "source": [
    "number=input('Введте набор чисел разделенных пробелом: ')\n",
    "number_list=number.split(' ')\n",
    "one_list=[]\n",
    "t_list=[]\n",
    "for i in number_list:\n",
    "    if i not in one_list:\n",
    "        one_list.append(i)\n",
    "for i in number_list:   \n",
    "    if i in one_list and\n",
    "    if i in t_list:\n",
    "        t_list.append(i)\n",
    "print(t_list)  \n",
    " "
   ]
  },
  {
   "cell_type": "code",
   "execution_count": null,
   "metadata": {},
   "outputs": [],
   "source": [
    "data=[\n",
    "    [13, 25, 23, 34],\n",
    "    [45, 32, 44, 47],\n",
    "    [12, 33, 23, 95],\n",
    "    [13, 53, 34, 35]\n",
    "]\n",
    "sum_ = 0 # инициализируем сумму \n",
    "i = 0 # инициализируем вспомогательный счетчик\n",
    "for row in data: #  двигаемся по строкам \n",
    "    sum_ += row[i] # сумма будет увеличиваться на элемент с индексом i += 1\n",
    "    i += 1 # при каждой операции i (индекс) будет нарасщиваться на 1\n",
    "sum_"
   ]
  },
  {
   "cell_type": "code",
   "execution_count": null,
   "metadata": {},
   "outputs": [],
   "source": [
    "# Посчитаем сумму эл. главной диагонали в матрице, а потом по обратной:\n",
    "# индексы эл. по условию равны индексу нужных строк\n",
    "data=[\n",
    "    [13, 25, 23, 34],\n",
    "    [45, 32, 44, 47],\n",
    "    [12, 33, 23, 95],\n",
    "    [13, 53, 34, 35]\n",
    "]\n",
    "result=0 # создаем вспомогательную переменную (инициализируем ее 0)\n",
    "for i in range(len(data)): # range(0, 4) позволяет генерировать ряд чисел в рамках заданного диапазона\n",
    "    result += data[i][i] # result = result + data[i][i] \n",
    "result"
   ]
  },
  {
   "cell_type": "code",
   "execution_count": null,
   "metadata": {},
   "outputs": [],
   "source": [
    "# нарисуем представленный шаблон:\n",
    "# 1\n",
    "# 22\n",
    "# 333\n",
    "# 4444\n",
    "# 55555\n",
    "# 666666\n",
    "# 7777777\n",
    "# 88888888\n",
    "# 999999999\n",
    "\n",
    "for i in range(10):\n",
    "    print(str(i)*i)"
   ]
  },
  {
   "cell_type": "code",
   "execution_count": null,
   "metadata": {},
   "outputs": [],
   "source": [
    "# Найдем в тексте слова длинее n \n",
    "text='Phyton - высокоуровневый язык программирования, ориентированный на повышение производительности разработчика и читаемости кода.'\n",
    "n=4\n",
    "s_text=text.replace(',', '').replace('.', '').replace('-', '').split() # с помощью .replace - убираем знаки припинания, с помощью .split - переводим строку в список\n",
    "for element in s_text: # c помощью for перебираем эл.\n",
    "    if len(element)>=n: # выбираем эл. больше, либо равно n\n",
    "s_text\n",
    "# посмотреть удаление дублей в phyton"
   ]
  },
  {
   "cell_type": "code",
   "execution_count": null,
   "metadata": {},
   "outputs": [],
   "source": []
  },
  {
   "cell_type": "code",
   "execution_count": null,
   "metadata": {},
   "outputs": [],
   "source": []
  },
  {
   "cell_type": "code",
   "execution_count": null,
   "metadata": {},
   "outputs": [],
   "source": []
  }
 ],
 "metadata": {
  "kernelspec": {
   "display_name": "Python 3",
   "language": "python",
   "name": "python3"
  },
  "language_info": {
   "codemirror_mode": {
    "name": "ipython",
    "version": 3
   },
   "file_extension": ".py",
   "mimetype": "text/x-python",
   "name": "python",
   "nbconvert_exporter": "python",
   "pygments_lexer": "ipython3",
   "version": "3.8.5"
  }
 },
 "nbformat": 4,
 "nbformat_minor": 4
}
