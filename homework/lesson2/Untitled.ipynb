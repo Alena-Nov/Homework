{
 "cells": [
  {
   "cell_type": "code",
   "execution_count": 5,
   "metadata": {},
   "outputs": [
    {
     "name": "stdout",
     "output_type": "stream",
     "text": [
      "Введите слово из латинских букв: test\n",
      "es\n"
     ]
    }
   ],
   "source": [
    "word=input(\"Введите слово из латинских букв: \")\n",
    "if len(word)%2==0:\n",
    "    print(word[len(word)//2-1]+word[len(word)//2])\n",
    "#используем целочисленное деление, т.к. индекс эллементом, не может быть дробным; используем \"+\" чтобы склеить буквы на выходе\n",
    "else:\n",
    "    print (word[len(word)//2])\n"
   ]
  },
  {
   "cell_type": "code",
   "execution_count": 4,
   "metadata": {},
   "outputs": [
    {
     "name": "stdout",
     "output_type": "stream",
     "text": [
      "Введите целое число: 1\n",
      "Введите целое число: 4\n",
      "Введите целое число: 6\n",
      "Введите целое число: 0\n",
      "11\n"
     ]
    }
   ],
   "source": [
    "set_numbers = []\n",
    "# объявляем список\n",
    "while (number:=int(input(\"Введите целое число: \"))) != 0:\n",
    "# используем цикл while и вложения input(\"\") для запроса чисел до того момента, пок не будет введен 0\n",
    "# почему после number ставится ':'???\n",
    "    set_numbers.append(number)\n",
    "# используем операцию .append для добавления эллементов, полученных в результате использования цикла while, в список set_numbers\n",
    "print(sum(set_numbers[0:]))\n",
    "# используем операцию sum для подсчета суммы элементов списка "
   ]
  },
  {
   "cell_type": "code",
   "execution_count": 2,
   "metadata": {},
   "outputs": [
    {
     "name": "stdout",
     "output_type": "stream",
     "text": [
      "Идеальная пара: [('Alex', 'Emma'), ('Arthur', 'Kate'), ('John', 'Kira'), ('Peter', 'Liza'), ('Richard', 'Trisha')]\n"
     ]
    }
   ],
   "source": [
    "# объявляем списки\n",
    "boys = ['Peter', 'Alex', 'John', 'Arthur', 'Richard']\n",
    "girls = ['Kate', 'Liza', 'Kira', 'Emma', 'Trisha']\n",
    "# сортируем элементы списка по алфавиту\n",
    "sort_boys=sorted(boys)\n",
    "sort_girls=sorted(girls)\n",
    "if len(sort_boys)==len(sort_girls):\n",
    "    t=f\"Идеальная пара: {list(zip(sort_boys, sort_girls))}\"\n",
    "    print(t)\n",
    "else:\n",
    "    print(\"Внимание, кто-то может остаться без пары!\")\n"
   ]
  },
  {
   "cell_type": "code",
   "execution_count": 3,
   "metadata": {},
   "outputs": [
    {
     "name": "stdout",
     "output_type": "stream",
     "text": [
      "Внимание, кто-то может остаться без пары!\n"
     ]
    }
   ],
   "source": [
    "boys = ['Peter', 'Alex', 'John', 'Arthur', 'Richard', 'Michael']\n",
    "girls = ['Kate', 'Liza', 'Kira', 'Emma', 'Trisha']\n",
    "sort_boys=sorted(boys)\n",
    "sort_girls=sorted(girls)\n",
    "if len(sort_boys)==len(sort_girls):\n",
    "    t=f\"Идеальная пара: {list(zip(sort_boys, sort_girls))}\"\n",
    "    print(t)\n",
    "else:\n",
    "    print(\"Внимание, кто-то может остаться без пары!\")\n"
   ]
  },
  {
   "cell_type": "code",
   "execution_count": 1,
   "metadata": {},
   "outputs": [
    {
     "name": "stdout",
     "output_type": "stream",
     "text": [
      "Средняя температура по цельсию: \n",
      "Thailand: 23.86 C\n",
      "Thailand - 23.86 C\n",
      "Germany - 13.8 C\n",
      "Russia - 3.71 C\n",
      "Poland - 12.0 C\n"
     ]
    }
   ],
   "source": [
    "countries_temperature = [\n",
    "['Thailand', [75.2, 77, 78.8, 73.4, 68, 75.2, 77]],\n",
    "['Germany', [57.2, 55.4, 59, 59, 53.6]],\n",
    "['Russia', [35.6, 37.4, 39.2, 41, 42.8, 39.2, 35.6]],\n",
    "['Poland', [50, 50, 53.6, 57.2, 55.4, 55.4]]\n",
    "]\n",
    "print (\"Средняя температура по цельсию: \")\n",
    "# разбираюсь в срезах\n",
    "a=sum(countries_temperature[0][1]) #сумма элементов в срезе \n",
    "b=len(countries_temperature[0][1]) # кол-во элементов в срезе\n",
    "c=a/b # средняя температура в Фарингейтах\n",
    "d=round((c-32)*(5/9),2) # переводим в цельсии\n",
    "t=f\"{countries_temperature[0][0]}: {d} C\" \n",
    "print(t)\n",
    "## как таким же способом посчитать показатели по остальным странам???\n",
    "# перехожу к решению в цикле for\n",
    "for country, temperature in countries_temperature:\n",
    "    temp_avg=sum(temperature[:])/len(temperature)\n",
    "    c_temp_avg=round((temp_avg-32)*5/9,2)\n",
    "# round - позволяет установить количество знаков после запятой \n",
    "    print(country, '-' ,c_temp_avg, 'C')\n",
    "   \n"
   ]
  },
  {
   "cell_type": "code",
   "execution_count": null,
   "metadata": {},
   "outputs": [],
   "source": []
  },
  {
   "cell_type": "code",
   "execution_count": null,
   "metadata": {},
   "outputs": [],
   "source": []
  },
  {
   "cell_type": "code",
   "execution_count": null,
   "metadata": {},
   "outputs": [],
   "source": []
  },
  {
   "cell_type": "code",
   "execution_count": null,
   "metadata": {},
   "outputs": [],
   "source": []
  }
 ],
 "metadata": {
  "kernelspec": {
   "display_name": "Python 3",
   "language": "python",
   "name": "python3"
  },
  "language_info": {
   "codemirror_mode": {
    "name": "ipython",
    "version": 3
   },
   "file_extension": ".py",
   "mimetype": "text/x-python",
   "name": "python",
   "nbconvert_exporter": "python",
   "pygments_lexer": "ipython3",
   "version": "3.8.5"
  }
 },
 "nbformat": 4,
 "nbformat_minor": 4
}
