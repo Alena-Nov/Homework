{
 "cells": [
  {
   "cell_type": "markdown",
   "metadata": {},
   "source": [
    "## Задание 1"
   ]
  },
  {
   "cell_type": "code",
   "execution_count": null,
   "metadata": {},
   "outputs": [],
   "source": [
    "word=input(\"Введите слово из латинских букв: \")\n",
    "if len(word)%2==0:\n",
    "    print(word[len(word)//2-1]+word[len(word)//2])\n",
    "#используем целочисленное деление, т.к. индекс эллементом, не может быть дробным; используем \"+\" чтобы склеить буквы на выходе\n",
    "else:\n",
    "    print (word[len(word)//2])\n"
   ]
  },
  {
   "cell_type": "markdown",
   "metadata": {},
   "source": [
    "## Задание 2"
   ]
  },
  {
   "cell_type": "code",
   "execution_count": null,
   "metadata": {},
   "outputs": [],
   "source": [
    "set_numbers = []\n",
    "# объявляем список\n",
    "while (number:=int(input(\"Введите целое число: \"))) != 0:\n",
    "# используем цикл while и вложения input(\"\") для запроса чисел до того момента, пок не будет введен 0\n",
    "# почему после number ставится ':'???\n",
    "    set_numbers.append(number)\n",
    "# используем операцию .append для добавления эллементов, полученных в результате использования цикла while, в список set_numbers\n",
    "print(sum(set_numbers[0:]))\n",
    "# используем операцию sum для подсчета суммы элементов списка "
   ]
  },
  {
   "cell_type": "markdown",
   "metadata": {},
   "source": [
    "## Задание 3"
   ]
  },
  {
   "cell_type": "code",
   "execution_count": null,
   "metadata": {},
   "outputs": [],
   "source": [
    "# объявляем списки\n",
    "boys = ['Peter', 'Alex', 'John', 'Arthur', 'Richard']\n",
    "girls = ['Kate', 'Liza', 'Kira', 'Emma', 'Trisha']\n",
    "# сортируем элементы списка по алфавиту\n",
    "sort_boys=sorted(boys)\n",
    "sort_girls=sorted(girls)\n",
    "if len(sort_boys)==len(sort_girls):\n",
    "    t=f\"Идеальная пара: {list(zip(sort_boys, sort_girls))}\" # с помощью zip объединяем попарно элементы с одинаковыми индексами, list представляет результат в виде списка\n",
    "    print(t)\n",
    "else:\n",
    "    print(\"Внимание, кто-то может остаться без пары!\")\n"
   ]
  },
  {
   "cell_type": "code",
   "execution_count": null,
   "metadata": {},
   "outputs": [],
   "source": [
    "boys = ['Peter', 'Alex', 'John', 'Arthur', 'Richard', 'Michael']\n",
    "girls = ['Kate', 'Liza', 'Kira', 'Emma', 'Trisha']\n",
    "sort_boys=sorted(boys)\n",
    "sort_girls=sorted(girls)\n",
    "if len(sort_boys)==len(sort_girls):\n",
    "    t=f\"Идеальная пара: {list(zip(sort_boys, sort_girls))}\"\n",
    "    print(t)\n",
    "else:\n",
    "    print(\"Внимание, кто-то может остаться без пары!\")\n"
   ]
  },
  {
   "cell_type": "markdown",
   "metadata": {},
   "source": [
    "## Задание 4"
   ]
  },
  {
   "cell_type": "code",
   "execution_count": null,
   "metadata": {},
   "outputs": [],
   "source": [
    "countries_temperature = [\n",
    "['Thailand', [75.2, 77, 78.8, 73.4, 68, 75.2, 77]],\n",
    "['Germany', [57.2, 55.4, 59, 59, 53.6]],\n",
    "['Russia', [35.6, 37.4, 39.2, 41, 42.8, 39.2, 35.6]],\n",
    "['Poland', [50, 50, 53.6, 57.2, 55.4, 55.4]]\n",
    "]\n",
    "print (\"Средняя температура по цельсию: \")\n",
    "# разбираюсь в срезах\n",
    "a=sum(countries_temperature[0][1]) #сумма элементов в срезе \n",
    "b=len(countries_temperature[0][1]) # кол-во элементов в срезе\n",
    "c=a/b # средняя температура в Фарингейтах\n",
    "d=round((c-32)*(5/9),2) # переводим в цельсии\n",
    "t=f\"{countries_temperature[0][0]}: {d} C\" \n",
    "print(t)\n",
    "## как таким же способом посчитать показатели по остальным странам???\n",
    "# перехожу к решению в цикле for\n",
    "for country, temperature in countries_temperature:\n",
    "    temp_avg=sum(temperature[:])/len(temperature)\n",
    "    c_temp_avg=round((temp_avg-32)*5/9,2)\n",
    "# round - позволяет установить количество знаков после запятой \n",
    "    print(country, '-' ,c_temp_avg, 'C')\n",
    "   \n"
   ]
  },
  {
   "cell_type": "markdown",
   "metadata": {},
   "source": [
    "## Задание 5"
   ]
  },
  {
   "cell_type": "code",
   "execution_count": null,
   "metadata": {},
   "outputs": [],
   "source": [
    "stream = [\n",
    "'2018-01-01,user1,3',\n",
    "'2018-01-07,user1,4',\n",
    "'2018-03-29,user1,1',\n",
    "'2018-04-04,user1,13',\n",
    "'2018-01-05,user2,7',\n",
    "'2018-06-14,user3,4',\n",
    "'2018-07-02,user3,10',\n",
    "'2018-03-21,user4,19',\n",
    "'2018-03-22,user4,4',\n",
    "'2018-04-22,user4,8',\n",
    "'2018-05-03,user4,9',\n",
    "'2018-05-11,user4,11',\n",
    "]\n",
    "# создаем накопителтные переменные:\n",
    "log=0 # для накопления кол-ва просмотров\n",
    "user_list=[] # накопительный список, для накопления уникальных пользователей\n",
    "# преобразуем строки к списку с помощью .split для удобства работы с данными\n",
    "for string in stream: # for используется для перебора всех строк в списке\n",
    "    splitted_string = string.split(',')\n",
    "#   print(splitted_string) - для вывода форматированного списка (список в списке вместо строк)\n",
    "    log += int(splitted_string[2]) # суммируем кол-ва просмотров (x += 3 тоже, что и:  x =x + 3)\n",
    "    if splitted_string[1] not in user_list: # перебираем пользователей из списка splitted_string, которые не были добавлены в user_list\n",
    "        user_list.append(splitted_string[1]) # и добавляем в user_list только тех, которые еще не были добавлены (уникальных пользователей)\n",
    "print('Среднее количество просмотров на уникального пользователя: ', log/len(user_list))"
   ]
  },
  {
   "cell_type": "code",
   "execution_count": null,
   "metadata": {},
   "outputs": [],
   "source": [
    "stream = [\n",
    "'2018-01-01,user100,150',\n",
    "'2018-01-07,user99,205',\n",
    "'2018-03-29,user1001,81'\n",
    "]\n",
    "log=0 \n",
    "user_list=[]\n",
    "for string in stream:\n",
    "    splitted_string = string.split(',')\n",
    "    log += int(splitted_string[2]) \n",
    "    if splitted_string[1] not in user_list:\n",
    "        user_list.append(splitted_string[1])\n",
    "print('Среднее количество просмотров на уникального пользователя: ', round(log/len(user_list),2))"
   ]
  },
  {
   "cell_type": "code",
   "execution_count": null,
   "metadata": {},
   "outputs": [],
   "source": []
  }
 ],
 "metadata": {
  "kernelspec": {
   "display_name": "Python 3",
   "language": "python",
   "name": "python3"
  },
  "language_info": {
   "codemirror_mode": {
    "name": "ipython",
    "version": 3
   },
   "file_extension": ".py",
   "mimetype": "text/x-python",
   "name": "python",
   "nbconvert_exporter": "python",
   "pygments_lexer": "ipython3",
   "version": "3.8.5"
  }
 },
 "nbformat": 4,
 "nbformat_minor": 4
}
